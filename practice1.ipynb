{
  "nbformat": 4,
  "nbformat_minor": 0,
  "metadata": {
    "colab": {
      "provenance": [],
      "toc_visible": true,
      "authorship_tag": "ABX9TyP7HJ1gr3w2mXLbZPA7dfqm",
      "include_colab_link": true
    },
    "kernelspec": {
      "name": "python3",
      "display_name": "Python 3"
    },
    "language_info": {
      "name": "python"
    }
  },
  "cells": [
    {
      "cell_type": "markdown",
      "metadata": {
        "id": "view-in-github",
        "colab_type": "text"
      },
      "source": [
        "<a href=\"https://colab.research.google.com/github/samruddhi1902/Python/blob/main/practice1.ipynb\" target=\"_parent\"><img src=\"https://colab.research.google.com/assets/colab-badge.svg\" alt=\"Open In Colab\"/></a>"
      ]
    },
    {
      "cell_type": "markdown",
      "source": [
        "HELLO\n",
        "\n",
        "shift+return to run\n",
        "#hello\n",
        "##hello\n",
        "###hello\n",
        "\n"
      ],
      "metadata": {
        "id": "I6h9kqDOnTSv"
      }
    },
    {
      "cell_type": "code",
      "source": [
        "s=70\n",
        "t=s\n",
        "print(id(s))\n",
        "print(id(t))"
      ],
      "metadata": {
        "colab": {
          "base_uri": "https://localhost:8080/"
        },
        "id": "iYlkvUDLpcfC",
        "outputId": "162deea3-c5a7-4982-db6a-50e638234cee"
      },
      "execution_count": null,
      "outputs": [
        {
          "output_type": "stream",
          "name": "stdout",
          "text": [
            "139822111558032\n",
            "139822111558032\n"
          ]
        }
      ]
    },
    {
      "cell_type": "code",
      "source": [
        "marks=95.5\n",
        "name=\"hello\"\n",
        "prn=22070122177\n",
        "roots=5+10j\n",
        "print(type(marks))\n",
        "print(type(name))\n",
        "print(type(prn))\n",
        "print(type(roots))"
      ],
      "metadata": {
        "colab": {
          "base_uri": "https://localhost:8080/"
        },
        "id": "17t98xlZqbZU",
        "outputId": "521f908f-c4a0-4ea2-c5ff-5f82cf45c209"
      },
      "execution_count": null,
      "outputs": [
        {
          "output_type": "stream",
          "name": "stdout",
          "text": [
            "<class 'float'>\n",
            "<class 'str'>\n",
            "<class 'int'>\n",
            "<class 'complex'>\n"
          ]
        }
      ]
    },
    {
      "cell_type": "code",
      "source": [
        "a=07\n",
        "print(type(a))\n"
      ],
      "metadata": {
        "colab": {
          "base_uri": "https://localhost:8080/",
          "height": 108
        },
        "id": "UgLvShOMsWux",
        "outputId": "d392b636-c457-4b0e-ad1c-95fedfd86192"
      },
      "execution_count": null,
      "outputs": [
        {
          "output_type": "error",
          "ename": "SyntaxError",
          "evalue": "leading zeros in decimal integer literals are not permitted; use an 0o prefix for octal integers (<ipython-input-8-36db5f12496e>, line 1)",
          "traceback": [
            "\u001b[0;36m  File \u001b[0;32m\"<ipython-input-8-36db5f12496e>\"\u001b[0;36m, line \u001b[0;32m1\u001b[0m\n\u001b[0;31m    a=07\u001b[0m\n\u001b[0m      ^\u001b[0m\n\u001b[0;31mSyntaxError\u001b[0m\u001b[0;31m:\u001b[0m leading zeros in decimal integer literals are not permitted; use an 0o prefix for octal integers\n"
          ]
        }
      ]
    },
    {
      "cell_type": "code",
      "source": [
        "s1=\"my name is xyz\"\n",
        "s2=\"hello\"\n",
        "print(s1[0:5])\n",
        "print(s1*3)\n",
        "print(s1[1])#prints the character at particular index\n",
        "print(s2+\" \"+s1)"
      ],
      "metadata": {
        "colab": {
          "base_uri": "https://localhost:8080/"
        },
        "id": "ZXCamONLslh9",
        "outputId": "aa0e7c63-88d6-4d7c-d781-927bfcbcecbb"
      },
      "execution_count": null,
      "outputs": [
        {
          "output_type": "stream",
          "name": "stdout",
          "text": [
            "my na\n",
            "my name is xyzmy name is xyzmy name is xyz\n",
            "y\n",
            "hello my name is xyz\n"
          ]
        }
      ]
    },
    {
      "cell_type": "code",
      "source": [
        "list1 = [\"hello\",1,2.5,\"c\",True,[1,2,3]]\n",
        "print(type(list1))\n",
        "print(list1[0])\n",
        "print(list1[1:4])\n",
        "print(list1[-1])\n",
        "print(list1*2)\n"
      ],
      "metadata": {
        "colab": {
          "base_uri": "https://localhost:8080/"
        },
        "id": "SQFlc9JvukXD",
        "outputId": "3293c624-909c-4663-d3ab-e7c5ef792e24"
      },
      "execution_count": null,
      "outputs": [
        {
          "output_type": "stream",
          "name": "stdout",
          "text": [
            "<class 'list'>\n",
            "hello\n",
            "[1, 2.5, 'c']\n",
            "[1, 2, 3]\n",
            "['hello', 1, 2.5, 'c', True, [1, 2, 3], 'hello', 1, 2.5, 'c', True, [1, 2, 3]]\n"
          ]
        }
      ]
    },
    {
      "cell_type": "code",
      "source": [
        "tuple1 = (\"hello\",1,2.5,\"c\",True,[1,2,3])\n",
        "print(type(tuple1))\n",
        "print(tuple1[0])\n",
        "print(tuple1[1:4])\n",
        "print(tuple1[-1])\n",
        "print(tuple1*2)\n",
        "#tuple is immutable\n",
        "#tuple1=3.5\n",
        "#values can't be altered"
      ],
      "metadata": {
        "colab": {
          "base_uri": "https://localhost:8080/"
        },
        "id": "Au07EHEzxSpe",
        "outputId": "0c8f749b-a47a-4c92-f65b-d0fe843d0a4f"
      },
      "execution_count": null,
      "outputs": [
        {
          "output_type": "stream",
          "name": "stdout",
          "text": [
            "<class 'tuple'>\n",
            "hello\n",
            "(1, 2.5, 'c')\n",
            "[1, 2, 3]\n",
            "('hello', 1, 2.5, 'c', True, [1, 2, 3], 'hello', 1, 2.5, 'c', True, [1, 2, 3])\n"
          ]
        }
      ]
    },
    {
      "cell_type": "code",
      "source": [
        "dictionary1={1:\"hello\",2:\"c\",3:\"python\"}\n",
        "print(type(dictionary1))\n",
        "print(dictionary1[1])\n",
        "print(dictionary1.keys())\n",
        "print(dictionary1.values())\n",
        "print(dictionary1.items())"
      ],
      "metadata": {
        "colab": {
          "base_uri": "https://localhost:8080/"
        },
        "id": "3mP-UyGLxfQ8",
        "outputId": "2bb2747d-55f1-4a44-8811-4dbb3302ed5b"
      },
      "execution_count": null,
      "outputs": [
        {
          "output_type": "stream",
          "name": "stdout",
          "text": [
            "<class 'dict'>\n",
            "hello\n",
            "dict_keys([1, 2, 3])\n",
            "dict_values(['hello', 'c', 'python'])\n",
            "dict_items([(1, 'hello'), (2, 'c'), (3, 'python')])\n"
          ]
        }
      ]
    },
    {
      "cell_type": "code",
      "source": [
        "d={\"NAME\":\"Samruddhi Borhade\",\"Branch\":\"Computer Science\",\"PRN\":22070122177,\"Batch\":\"2022-2026\"}\n",
        "print(d)\n",
        "print(d[\"NAME\"])\n",
        "print(d.keys())\n",
        "print(d.values())\n",
        "print(d.items())"
      ],
      "metadata": {
        "colab": {
          "base_uri": "https://localhost:8080/"
        },
        "id": "XMxJOEEOyOnq",
        "outputId": "e249ee62-8513-4c48-f2ca-168544b2ec71"
      },
      "execution_count": null,
      "outputs": [
        {
          "output_type": "stream",
          "name": "stdout",
          "text": [
            "{'NAME': 'Samruddhi Borhade', 'Branch': 'Computer Science', 'PRN': 22070122177, 'Batch': '2022-2026'}\n",
            "Samruddhi Borhade\n",
            "dict_keys(['NAME', 'Branch', 'PRN', 'Batch'])\n",
            "dict_values(['Samruddhi Borhade', 'Computer Science', 22070122177, '2022-2026'])\n",
            "dict_items([('NAME', 'Samruddhi Borhade'), ('Branch', 'Computer Science'), ('PRN', 22070122177), ('Batch', '2022-2026')])\n"
          ]
        }
      ]
    },
    {
      "cell_type": "code",
      "source": [
        "a=True\n",
        "print(type(a))\n",
        "print(4==5)\n",
        "print(True and False)\n",
        "print(True or False)\n",
        "#true can be represented by any non-zero value or 'T' whereas false can be represented by the 0 or F"
      ],
      "metadata": {
        "colab": {
          "base_uri": "https://localhost:8080/"
        },
        "id": "zYa9hzHp0dRE",
        "outputId": "5136b222-1bd1-4061-f220-ff55d78edd13"
      },
      "execution_count": null,
      "outputs": [
        {
          "output_type": "stream",
          "name": "stdout",
          "text": [
            "<class 'bool'>\n",
            "False\n",
            "False\n",
            "True\n"
          ]
        }
      ]
    },
    {
      "cell_type": "code",
      "source": [
        "set1=set()#empty set\n",
        "set2={1,2,3,\"james\",\"python\"}\n",
        "print(type(set1))\n",
        "print(type(set2))\n",
        "set2.add(\"hello\")\n",
        "print(set2)\n",
        "set2.remove(\"hello\")\n",
        "print(set2)\n",
        "set2.pop()\n",
        "print(set2)\n"
      ],
      "metadata": {
        "colab": {
          "base_uri": "https://localhost:8080/"
        },
        "id": "h1nQjAQd1CI_",
        "outputId": "8267ed2f-3787-49c1-a88f-7676ff9b3c8e"
      },
      "execution_count": null,
      "outputs": [
        {
          "output_type": "stream",
          "name": "stdout",
          "text": [
            "<class 'set'>\n",
            "<class 'set'>\n",
            "{1, 2, 3, 'james', 'hello', 'python'}\n",
            "{1, 2, 3, 'james', 'python'}\n",
            "{2, 3, 'james', 'python'}\n"
          ]
        }
      ]
    },
    {
      "cell_type": "code",
      "source": [
        "import keyword\n",
        "print(keyword.kwlist)"
      ],
      "metadata": {
        "id": "MoZfOGU34oxm",
        "outputId": "2ec2ab3e-a63e-4424-fd78-7ed7bb008297",
        "colab": {
          "base_uri": "https://localhost:8080/"
        }
      },
      "execution_count": null,
      "outputs": [
        {
          "output_type": "stream",
          "name": "stdout",
          "text": [
            "['False', 'None', 'True', 'and', 'as', 'assert', 'async', 'await', 'break', 'class', 'continue', 'def', 'del', 'elif', 'else', 'except', 'finally', 'for', 'from', 'global', 'if', 'import', 'in', 'is', 'lambda', 'nonlocal', 'not', 'or', 'pass', 'raise', 'return', 'try', 'while', 'with', 'yield']\n"
          ]
        }
      ]
    }
  ]
}