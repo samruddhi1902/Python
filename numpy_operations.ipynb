{
  "cells": [
    {
      "cell_type": "markdown",
      "metadata": {
        "id": "view-in-github",
        "colab_type": "text"
      },
      "source": [
        "<a href=\"https://colab.research.google.com/github/samruddhi1902/Python/blob/main/numpy_operations.ipynb\" target=\"_parent\"><img src=\"https://colab.research.google.com/assets/colab-badge.svg\" alt=\"Open In Colab\"/></a>"
      ]
    },
    {
      "cell_type": "code",
      "execution_count": null,
      "id": "c6a12e75-6de4-41e7-924f-0287c686d7a5",
      "metadata": {
        "id": "c6a12e75-6de4-41e7-924f-0287c686d7a5"
      },
      "outputs": [],
      "source": [
        "import numpy as np"
      ]
    },
    {
      "cell_type": "markdown",
      "id": "c3ee9374-4a8d-4e51-9626-0f5858738200",
      "metadata": {
        "id": "c3ee9374-4a8d-4e51-9626-0f5858738200"
      },
      "source": [
        "np.identity(4)"
      ]
    },
    {
      "cell_type": "code",
      "source": [
        "data=np.array([1, 2, 3, 4])\n",
        "data.ndim\n",
        "data.shape\n",
        "data\n"
      ],
      "metadata": {
        "colab": {
          "base_uri": "https://localhost:8080/"
        },
        "id": "FoH4h_XI0ZOt",
        "outputId": "536c7473-beab-4485-ad42-b323e87c4f73"
      },
      "id": "FoH4h_XI0ZOt",
      "execution_count": null,
      "outputs": [
        {
          "output_type": "execute_result",
          "data": {
            "text/plain": [
              "array([1, 2, 3, 4])"
            ]
          },
          "metadata": {},
          "execution_count": 6
        }
      ]
    },
    {
      "cell_type": "code",
      "source": [
        "x1 = 5.4 * np.ones(10)\n",
        "x1\n",
        "x2 = np.full(10, 5.4)\n",
        "x2"
      ],
      "metadata": {
        "colab": {
          "base_uri": "https://localhost:8080/"
        },
        "id": "ShAJWnbr18I6",
        "outputId": "98a7d96e-e882-4e7d-a11c-824946e4ab24"
      },
      "id": "ShAJWnbr18I6",
      "execution_count": null,
      "outputs": [
        {
          "output_type": "execute_result",
          "data": {
            "text/plain": [
              "array([5.4, 5.4, 5.4, 5.4, 5.4, 5.4, 5.4, 5.4, 5.4, 5.4])"
            ]
          },
          "metadata": {},
          "execution_count": 8
        }
      ]
    },
    {
      "cell_type": "code",
      "execution_count": null,
      "id": "3438115e-1b44-4e61-ba31-b77543180374",
      "metadata": {
        "id": "3438115e-1b44-4e61-ba31-b77543180374",
        "outputId": "2e14e160-c25d-458b-f0e1-bb6866a9c0fd"
      },
      "outputs": [
        {
          "data": {
            "text/plain": [
              "array([[1., 0., 0., 0.],\n",
              "       [0., 1., 0., 0.],\n",
              "       [0., 0., 1., 0.],\n",
              "       [0., 0., 0., 1.]])"
            ]
          },
          "execution_count": 7,
          "metadata": {},
          "output_type": "execute_result"
        }
      ],
      "source": [
        "np.eye(4)"
      ]
    },
    {
      "cell_type": "code",
      "execution_count": null,
      "id": "e10c2ea2-cef9-4ea2-88bc-05f8fa92e1c6",
      "metadata": {
        "scrolled": true,
        "id": "e10c2ea2-cef9-4ea2-88bc-05f8fa92e1c6",
        "outputId": "f058c369-0049-48bf-adcc-b68df199e205"
      },
      "outputs": [
        {
          "data": {
            "text/plain": [
              "array([[0., 1., 0., 0.],\n",
              "       [0., 0., 1., 0.],\n",
              "       [0., 0., 0., 1.],\n",
              "       [0., 0., 0., 0.]])"
            ]
          },
          "execution_count": 13,
          "metadata": {},
          "output_type": "execute_result"
        }
      ],
      "source": [
        "np.eye(4, k=1)"
      ]
    },
    {
      "cell_type": "code",
      "execution_count": null,
      "id": "91f02ec0-3fce-4da6-a357-c126f4ac587e",
      "metadata": {
        "id": "91f02ec0-3fce-4da6-a357-c126f4ac587e",
        "outputId": "d442594b-a2e4-4a84-847e-361d370c1ce8"
      },
      "outputs": [
        {
          "data": {
            "text/plain": [
              "array([[0., 0., 0., 0.],\n",
              "       [1., 0., 0., 0.],\n",
              "       [0., 1., 0., 0.],\n",
              "       [0., 0., 1., 0.]])"
            ]
          },
          "execution_count": 15,
          "metadata": {},
          "output_type": "execute_result"
        }
      ],
      "source": [
        "np.eye(4, k=-1)"
      ]
    },
    {
      "cell_type": "code",
      "execution_count": null,
      "id": "fa17b8a5-5c72-476f-b721-70496ce374a6",
      "metadata": {
        "id": "fa17b8a5-5c72-476f-b721-70496ce374a6",
        "outputId": "e4fed603-3555-42f1-ba93-3cbdc0de9868"
      },
      "outputs": [
        {
          "data": {
            "text/plain": [
              "array([[ 0,  0,  0,  0],\n",
              "       [ 0,  5,  0,  0],\n",
              "       [ 0,  0, 10,  0],\n",
              "       [ 0,  0,  0, 15]])"
            ]
          },
          "execution_count": 21,
          "metadata": {},
          "output_type": "execute_result"
        }
      ],
      "source": [
        "np.diag(np.arange(0,20,5)) #a-range"
      ]
    },
    {
      "cell_type": "code",
      "execution_count": null,
      "id": "93f0cdd8-80c4-4755-be68-9a043a1e3d3c",
      "metadata": {
        "id": "93f0cdd8-80c4-4755-be68-9a043a1e3d3c",
        "outputId": "a7a773e8-1f9b-4b2f-8bdc-8cb8282dd62e"
      },
      "outputs": [
        {
          "data": {
            "text/plain": [
              "array([[10,  0,  0,  0],\n",
              "       [ 0, 20,  0,  0],\n",
              "       [ 0,  0, 30,  0],\n",
              "       [ 0,  0,  0, 40]])"
            ]
          },
          "execution_count": 25,
          "metadata": {},
          "output_type": "execute_result"
        }
      ],
      "source": [
        "np.diag([10, 20, 30, 40])"
      ]
    },
    {
      "cell_type": "code",
      "execution_count": null,
      "id": "1ad4f6ea-613e-4359-8e33-40e1995d5aef",
      "metadata": {
        "id": "1ad4f6ea-613e-4359-8e33-40e1995d5aef"
      },
      "outputs": [],
      "source": [
        "a = np.array(range(11))"
      ]
    },
    {
      "cell_type": "code",
      "execution_count": null,
      "id": "ee4a06fc-0c67-4e76-86f4-27b37e54589c",
      "metadata": {
        "id": "ee4a06fc-0c67-4e76-86f4-27b37e54589c",
        "outputId": "7229b543-72d9-499c-f740-358ae2f0f819"
      },
      "outputs": [
        {
          "data": {
            "text/plain": [
              "array([ 0,  1,  2,  3,  4,  5,  6,  7,  8,  9, 10])"
            ]
          },
          "execution_count": 32,
          "metadata": {},
          "output_type": "execute_result"
        }
      ],
      "source": [
        "a"
      ]
    },
    {
      "cell_type": "code",
      "execution_count": null,
      "id": "f0356361-2941-45ce-b457-e168a504989b",
      "metadata": {
        "id": "f0356361-2941-45ce-b457-e168a504989b",
        "outputId": "c47663e0-237e-46c2-fc90-f9f61769b0b6"
      },
      "outputs": [
        {
          "data": {
            "text/plain": [
              "0"
            ]
          },
          "execution_count": 34,
          "metadata": {},
          "output_type": "execute_result"
        }
      ],
      "source": [
        "a[0]"
      ]
    },
    {
      "cell_type": "code",
      "execution_count": null,
      "id": "162467e5-cd7c-4aa4-ba50-4ce789837afa",
      "metadata": {
        "id": "162467e5-cd7c-4aa4-ba50-4ce789837afa",
        "outputId": "33770f32-da38-48cc-e8e2-525279f852df"
      },
      "outputs": [
        {
          "data": {
            "text/plain": [
              "10"
            ]
          },
          "execution_count": 36,
          "metadata": {},
          "output_type": "execute_result"
        }
      ],
      "source": [
        "a[-1]"
      ]
    },
    {
      "cell_type": "code",
      "execution_count": null,
      "id": "6098d202-5070-48fb-aaee-825201e4dc8a",
      "metadata": {
        "id": "6098d202-5070-48fb-aaee-825201e4dc8a",
        "outputId": "cd99e270-81f8-43c6-b691-e7324e9c69db"
      },
      "outputs": [
        {
          "data": {
            "text/plain": [
              "9"
            ]
          },
          "execution_count": 38,
          "metadata": {},
          "output_type": "execute_result"
        }
      ],
      "source": [
        "a[-2]"
      ]
    },
    {
      "cell_type": "code",
      "execution_count": null,
      "id": "031ec138-b285-4f18-9eb5-a52fbe05c68c",
      "metadata": {
        "id": "031ec138-b285-4f18-9eb5-a52fbe05c68c",
        "outputId": "9b534c9c-5504-40a8-d55a-d2869ca73cbc"
      },
      "outputs": [
        {
          "data": {
            "text/plain": [
              "array([ 0,  1,  2,  3,  4,  5,  6,  7,  8,  9, 10])"
            ]
          },
          "execution_count": 40,
          "metadata": {},
          "output_type": "execute_result"
        }
      ],
      "source": [
        "a[:]"
      ]
    },
    {
      "cell_type": "code",
      "execution_count": null,
      "id": "e6a88ed8-6c3e-4a9e-8b7c-1e77442d7961",
      "metadata": {
        "id": "e6a88ed8-6c3e-4a9e-8b7c-1e77442d7961",
        "outputId": "9baac336-6dd5-43c0-d6c6-45813e8db570"
      },
      "outputs": [
        {
          "data": {
            "text/plain": [
              "array([ 5,  6,  7,  8,  9, 10])"
            ]
          },
          "execution_count": 42,
          "metadata": {},
          "output_type": "execute_result"
        }
      ],
      "source": [
        "a[5:]"
      ]
    },
    {
      "cell_type": "code",
      "execution_count": null,
      "id": "5e19a317-59ee-46b1-84a4-b07efe393922",
      "metadata": {
        "id": "5e19a317-59ee-46b1-84a4-b07efe393922",
        "outputId": "3450a8ee-cdbe-4482-d1e4-1a7eb748004b"
      },
      "outputs": [
        {
          "data": {
            "text/plain": [
              "array([5, 6, 7, 8])"
            ]
          },
          "execution_count": 44,
          "metadata": {},
          "output_type": "execute_result"
        }
      ],
      "source": [
        "a[5:-2]"
      ]
    },
    {
      "cell_type": "code",
      "execution_count": null,
      "id": "90725bd0-460d-4a39-8ece-d7d6c188bf5a",
      "metadata": {
        "id": "90725bd0-460d-4a39-8ece-d7d6c188bf5a",
        "outputId": "ee68f0e9-3f95-4b5e-fc4a-38afbafa1dde"
      },
      "outputs": [
        {
          "data": {
            "text/plain": [
              "array([10,  9,  8,  7,  6,  5,  4,  3,  2,  1,  0])"
            ]
          },
          "execution_count": 46,
          "metadata": {},
          "output_type": "execute_result"
        }
      ],
      "source": [
        "a[::-1]"
      ]
    },
    {
      "cell_type": "code",
      "execution_count": null,
      "id": "8de4755a-78b6-47ac-94ab-2fabee74f00f",
      "metadata": {
        "id": "8de4755a-78b6-47ac-94ab-2fabee74f00f",
        "outputId": "914bdaa3-e331-4e0e-d1d3-3e772a6d6c88"
      },
      "outputs": [
        {
          "data": {
            "text/plain": [
              "array([], dtype=int64)"
            ]
          },
          "execution_count": 50,
          "metadata": {},
          "output_type": "execute_result"
        }
      ],
      "source": [
        "a[-5: 0]"
      ]
    },
    {
      "cell_type": "code",
      "execution_count": null,
      "id": "8b781936-ea28-4e13-9279-9d73d5fdfd4b",
      "metadata": {
        "id": "8b781936-ea28-4e13-9279-9d73d5fdfd4b",
        "outputId": "f675f8cc-0b0a-4c0e-ffe5-727f4eba42fa"
      },
      "outputs": [
        {
          "data": {
            "text/plain": [
              "array([6, 5, 4, 3, 2, 1])"
            ]
          },
          "execution_count": 54,
          "metadata": {},
          "output_type": "execute_result"
        }
      ],
      "source": [
        "a[-5:0:-1]"
      ]
    },
    {
      "cell_type": "code",
      "execution_count": null,
      "id": "b524e324-164f-45b6-8a24-124b16dd5a30",
      "metadata": {
        "id": "b524e324-164f-45b6-8a24-124b16dd5a30",
        "outputId": "998ef7ac-5a23-4fc1-ab9f-244344a59b26"
      },
      "outputs": [
        {
          "data": {
            "text/plain": [
              "array([[ 0,  1,  2,  3,  4,  5],\n",
              "       [10, 11, 12, 13, 14, 15],\n",
              "       [20, 21, 22, 23, 24, 25],\n",
              "       [30, 31, 32, 33, 34, 35],\n",
              "       [40, 41, 42, 43, 44, 45],\n",
              "       [50, 51, 52, 53, 54, 55]])"
            ]
          },
          "execution_count": 6,
          "metadata": {},
          "output_type": "execute_result"
        }
      ],
      "source": [
        "f = lambda m, n: n+10*m\n",
        "A = np.fromfunction(f, (6,6), dtype=int)\n",
        "A"
      ]
    },
    {
      "cell_type": "code",
      "execution_count": null,
      "id": "6c72f77a-28cc-4bf3-836a-a3a22a721cae",
      "metadata": {
        "id": "6c72f77a-28cc-4bf3-836a-a3a22a721cae",
        "outputId": "05f44d8d-8333-4a18-b330-f45b06852a99"
      },
      "outputs": [
        {
          "data": {
            "text/plain": [
              "array([ 1, 11, 21, 31, 41, 51])"
            ]
          },
          "execution_count": 8,
          "metadata": {},
          "output_type": "execute_result"
        }
      ],
      "source": [
        "A[:, 1] # second column; slicing + integer indexing"
      ]
    },
    {
      "cell_type": "code",
      "execution_count": null,
      "id": "fcc7e408-c090-4800-b5b2-a7e4c7f5651b",
      "metadata": {
        "id": "fcc7e408-c090-4800-b5b2-a7e4c7f5651b",
        "outputId": "967fb3d5-fa02-455c-de4f-1527462ede38"
      },
      "outputs": [
        {
          "data": {
            "text/plain": [
              "array([10, 11, 12, 13, 14, 15])"
            ]
          },
          "execution_count": 10,
          "metadata": {},
          "output_type": "execute_result"
        }
      ],
      "source": [
        "A[1,:] # second row"
      ]
    },
    {
      "cell_type": "code",
      "execution_count": null,
      "id": "f72871f5-2266-4cca-b6b0-4e732f5dfb8b",
      "metadata": {
        "id": "f72871f5-2266-4cca-b6b0-4e732f5dfb8b",
        "outputId": "7573f410-24aa-43f2-f4e0-8837f80b08d5"
      },
      "outputs": [
        {
          "data": {
            "text/plain": [
              "array([[ 0,  1,  2],\n",
              "       [10, 11, 12],\n",
              "       [20, 21, 22]])"
            ]
          },
          "execution_count": 14,
          "metadata": {},
          "output_type": "execute_result"
        }
      ],
      "source": [
        "A[:3, :3] # slicing + slicing"
      ]
    },
    {
      "cell_type": "code",
      "execution_count": null,
      "id": "861d72e6-75c2-4f9d-b392-f1cc363e2f70",
      "metadata": {
        "id": "861d72e6-75c2-4f9d-b392-f1cc363e2f70",
        "outputId": "9e4ad0cb-2fd1-4b61-c90e-5afc13577e28"
      },
      "outputs": [
        {
          "data": {
            "text/plain": [
              "array([[30, 31, 32],\n",
              "       [40, 41, 42],\n",
              "       [50, 51, 52]])"
            ]
          },
          "execution_count": 19,
          "metadata": {},
          "output_type": "execute_result"
        }
      ],
      "source": [
        "A[3:, :3] # slicing + slicing"
      ]
    },
    {
      "cell_type": "code",
      "execution_count": null,
      "id": "cd68f77e-5946-493f-8047-420ec76e7ded",
      "metadata": {
        "id": "cd68f77e-5946-493f-8047-420ec76e7ded",
        "outputId": "9280ac7f-afc0-4c75-8e77-9f6191d6c703"
      },
      "outputs": [
        {
          "data": {
            "text/plain": [
              "55"
            ]
          },
          "execution_count": 21,
          "metadata": {},
          "output_type": "execute_result"
        }
      ],
      "source": [
        "A[-1, -1]"
      ]
    },
    {
      "cell_type": "code",
      "execution_count": null,
      "id": "ae8a5bfe-f941-42d4-8fed-034b1d61d8fb",
      "metadata": {
        "id": "ae8a5bfe-f941-42d4-8fed-034b1d61d8fb",
        "outputId": "23a12ca5-a4f7-4b0c-db90-1aacf1d11773"
      },
      "outputs": [
        {
          "data": {
            "text/plain": [
              "array([[50, 51, 52, 53, 54, 55],\n",
              "       [40, 41, 42, 43, 44, 45],\n",
              "       [30, 31, 32, 33, 34, 35],\n",
              "       [20, 21, 22, 23, 24, 25],\n",
              "       [10, 11, 12, 13, 14, 15],\n",
              "       [ 0,  1,  2,  3,  4,  5]])"
            ]
          },
          "execution_count": 23,
          "metadata": {},
          "output_type": "execute_result"
        }
      ],
      "source": [
        "A[::-1]"
      ]
    },
    {
      "cell_type": "code",
      "execution_count": null,
      "id": "578acfb6-dc24-4213-934f-d191d582c426",
      "metadata": {
        "id": "578acfb6-dc24-4213-934f-d191d582c426",
        "outputId": "bdf7a1ae-7dee-4633-cc56-46b8150f03ba"
      },
      "outputs": [
        {
          "data": {
            "text/plain": [
              "array([[55, 54, 53, 52, 51, 50],\n",
              "       [45, 44, 43, 42, 41, 40],\n",
              "       [35, 34, 33, 32, 31, 30],\n",
              "       [25, 24, 23, 22, 21, 20],\n",
              "       [15, 14, 13, 12, 11, 10],\n",
              "       [ 5,  4,  3,  2,  1,  0]])"
            ]
          },
          "execution_count": 25,
          "metadata": {},
          "output_type": "execute_result"
        }
      ],
      "source": [
        "A[::-1,::-1]"
      ]
    },
    {
      "cell_type": "code",
      "execution_count": null,
      "id": "9dbda22f-dd66-4299-864c-e007dde4b297",
      "metadata": {
        "id": "9dbda22f-dd66-4299-864c-e007dde4b297",
        "outputId": "aa50d1d4-c8e5-44b5-c08b-7a7e6ff40e63"
      },
      "outputs": [
        {
          "data": {
            "text/plain": [
              "array([[ 0,  2,  4],\n",
              "       [20, 22, 24],\n",
              "       [40, 42, 44]])"
            ]
          },
          "execution_count": 27,
          "metadata": {},
          "output_type": "execute_result"
        }
      ],
      "source": [
        "A[::2,::2]"
      ]
    },
    {
      "cell_type": "code",
      "execution_count": null,
      "id": "43cc1776-8187-4725-9fb1-bb839959b3c7",
      "metadata": {
        "id": "43cc1776-8187-4725-9fb1-bb839959b3c7",
        "outputId": "dcffc1a0-a49b-40e3-ce96-46b709932e94"
      },
      "outputs": [
        {
          "data": {
            "text/plain": [
              "array([50, 51, 52, 53, 54, 55])"
            ]
          },
          "execution_count": 33,
          "metadata": {},
          "output_type": "execute_result"
        }
      ],
      "source": [
        "A[-1]"
      ]
    },
    {
      "cell_type": "code",
      "execution_count": null,
      "id": "b5ae5e2f-848a-464a-a5a7-f5d79beadec8",
      "metadata": {
        "id": "b5ae5e2f-848a-464a-a5a7-f5d79beadec8",
        "outputId": "63800a11-924c-4061-c549-742f75832f94"
      },
      "outputs": [
        {
          "data": {
            "text/plain": [
              "array([20, 21, 22, 23, 24, 25])"
            ]
          },
          "execution_count": 29,
          "metadata": {},
          "output_type": "execute_result"
        }
      ],
      "source": [
        "A[2]"
      ]
    },
    {
      "cell_type": "code",
      "execution_count": null,
      "id": "ce38b04a-4879-4f2a-88e3-c4e0b9d5a54c",
      "metadata": {
        "id": "ce38b04a-4879-4f2a-88e3-c4e0b9d5a54c",
        "outputId": "3493d944-e0ef-4569-d24a-f8caf66eaa02"
      },
      "outputs": [
        {
          "data": {
            "text/plain": [
              "array([[11, 14],\n",
              "       [31, 34],\n",
              "       [51, 54]])"
            ]
          },
          "execution_count": 35,
          "metadata": {},
          "output_type": "execute_result"
        }
      ],
      "source": [
        "A[1::2,1::3]"
      ]
    },
    {
      "cell_type": "code",
      "execution_count": null,
      "id": "f4e08caf-a70c-49e1-8626-cdd04179676b",
      "metadata": {
        "id": "f4e08caf-a70c-49e1-8626-cdd04179676b",
        "outputId": "3f09f347-aa8f-4189-de08-1d5e0707701c"
      },
      "outputs": [
        {
          "data": {
            "text/plain": [
              "array([[11, 12, 13, 14],\n",
              "       [21, 22, 23, 24],\n",
              "       [31, 32, 33, 34],\n",
              "       [41, 42, 43, 44]])"
            ]
          },
          "execution_count": 37,
          "metadata": {},
          "output_type": "execute_result"
        }
      ],
      "source": [
        "# View\n",
        "B = A[1:5, 1:5] # Object is same!!\n",
        "B"
      ]
    },
    {
      "cell_type": "code",
      "execution_count": null,
      "id": "ef634f3e-bba0-4d35-ab3c-3edaf29b680f",
      "metadata": {
        "id": "ef634f3e-bba0-4d35-ab3c-3edaf29b680f",
        "outputId": "d89284c5-6fec-4e7f-aff6-fd2be17bb4ac"
      },
      "outputs": [
        {
          "data": {
            "text/plain": [
              "array([[ 0,  1,  2,  3,  4,  5],\n",
              "       [10,  0,  0,  0,  0, 15],\n",
              "       [20,  0,  0,  0,  0, 25],\n",
              "       [30,  0,  0,  0,  0, 35],\n",
              "       [40,  0,  0,  0,  0, 45],\n",
              "       [50, 51, 52, 53, 54, 55]])"
            ]
          },
          "execution_count": 43,
          "metadata": {},
          "output_type": "execute_result"
        }
      ],
      "source": [
        "B[:,:] = 0 #changes to B changes A as well\n",
        "A"
      ]
    },
    {
      "cell_type": "code",
      "execution_count": null,
      "id": "f9621267-0109-4625-84f4-64fe19fb6de2",
      "metadata": {
        "id": "f9621267-0109-4625-84f4-64fe19fb6de2",
        "outputId": "630f3989-063f-4c28-9477-371406d430a7"
      },
      "outputs": [
        {
          "data": {
            "text/plain": [
              "array([[0, 0],\n",
              "       [0, 0]])"
            ]
          },
          "execution_count": 45,
          "metadata": {},
          "output_type": "execute_result"
        }
      ],
      "source": [
        "# To copy an array/subarray, you have to use .copy(). It creates a new object\n",
        "C = B[1:3,1:3].copy()\n",
        "C"
      ]
    },
    {
      "cell_type": "code",
      "execution_count": null,
      "id": "2587a45f-cef7-4b1d-a53b-c53c88e4e610",
      "metadata": {
        "id": "2587a45f-cef7-4b1d-a53b-c53c88e4e610",
        "outputId": "b68bc129-c0cf-4718-d94f-faf1f16d69ce"
      },
      "outputs": [
        {
          "data": {
            "text/plain": [
              "(array([[0, 0, 0, 0],\n",
              "        [0, 0, 0, 0],\n",
              "        [0, 0, 0, 0],\n",
              "        [0, 0, 0, 0]]),\n",
              " array([[1, 1],\n",
              "        [1, 1]]))"
            ]
          },
          "execution_count": 49,
          "metadata": {},
          "output_type": "execute_result"
        }
      ],
      "source": [
        "C[:,:] = 1 # since its a copy, a view is not created\n",
        "B, C"
      ]
    },
    {
      "cell_type": "code",
      "execution_count": null,
      "id": "cf9e0a6a-6345-4ada-bfb8-64c577b58e07",
      "metadata": {
        "id": "cf9e0a6a-6345-4ada-bfb8-64c577b58e07",
        "outputId": "f350925a-e46a-4c13-f1ee-ac5d3a38ca2a"
      },
      "outputs": [
        {
          "data": {
            "text/plain": [
              "array([0. , 0.1, 0.2, 0.3, 0.4, 0.5, 0.6, 0.7, 0.8, 0.9, 1. ])"
            ]
          },
          "execution_count": 55,
          "metadata": {},
          "output_type": "execute_result"
        }
      ],
      "source": [
        "A = np.linspace(0, 1, 11)\n",
        "A"
      ]
    },
    {
      "cell_type": "code",
      "execution_count": null,
      "id": "5e540acc-0141-4d24-85cb-783354b50999",
      "metadata": {
        "id": "5e540acc-0141-4d24-85cb-783354b50999"
      },
      "outputs": [],
      "source": []
    }
  ],
  "metadata": {
    "kernelspec": {
      "display_name": "Python 3 (ipykernel)",
      "language": "python",
      "name": "python3"
    },
    "language_info": {
      "codemirror_mode": {
        "name": "ipython",
        "version": 3
      },
      "file_extension": ".py",
      "mimetype": "text/x-python",
      "name": "python",
      "nbconvert_exporter": "python",
      "pygments_lexer": "ipython3",
      "version": "3.12.2"
    },
    "colab": {
      "provenance": [],
      "include_colab_link": true
    }
  },
  "nbformat": 4,
  "nbformat_minor": 5
}