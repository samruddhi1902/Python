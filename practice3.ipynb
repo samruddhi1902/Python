{
  "nbformat": 4,
  "nbformat_minor": 0,
  "metadata": {
    "colab": {
      "provenance": [],
      "authorship_tag": "ABX9TyOH4b+YpYtF3Lb6GK3Fr/Vt",
      "include_colab_link": true
    },
    "kernelspec": {
      "name": "python3",
      "display_name": "Python 3"
    },
    "language_info": {
      "name": "python"
    }
  },
  "cells": [
    {
      "cell_type": "markdown",
      "metadata": {
        "id": "view-in-github",
        "colab_type": "text"
      },
      "source": [
        "<a href=\"https://colab.research.google.com/github/samruddhi1902/Python/blob/main/practice3.ipynb\" target=\"_parent\"><img src=\"https://colab.research.google.com/assets/colab-badge.svg\" alt=\"Open In Colab\"/></a>"
      ]
    },
    {
      "cell_type": "code",
      "execution_count": null,
      "metadata": {
        "colab": {
          "base_uri": "https://localhost:8080/"
        },
        "id": "9EhUj4zwsW3u",
        "outputId": "2f3e0245-038f-499c-c092-63d97e8570d3"
      },
      "outputs": [
        {
          "output_type": "stream",
          "name": "stdout",
          "text": [
            "item matched\n",
            "found at 2 location\n"
          ]
        }
      ],
      "source": [
        "list=[1,2,3,4]\n",
        "count=1\n",
        "for i in list:\n",
        "  if i==4:\n",
        "    print(\"item matched\")\n",
        "    count+=1\n",
        "    break\n",
        "print(\"found at\",count,\"location\")\n"
      ]
    },
    {
      "cell_type": "code",
      "source": [
        "str=\"python\"\n",
        "for i in str:\n",
        "  if i=='o':\n",
        "    break\n",
        "  print(i)"
      ],
      "metadata": {
        "colab": {
          "base_uri": "https://localhost:8080/"
        },
        "id": "j9TdpJKHs_I2",
        "outputId": "c43ad8b4-f73c-4b12-8f96-2e198281e6e1"
      },
      "execution_count": null,
      "outputs": [
        {
          "output_type": "stream",
          "name": "stdout",
          "text": [
            "p\n",
            "y\n",
            "t\n",
            "h\n"
          ]
        }
      ]
    },
    {
      "cell_type": "code",
      "source": [
        "for iterator in range(10,21):\n",
        "  if iterator==15:\n",
        "    print(\"hello\")\n",
        "    continue\n",
        "  print(iterator)"
      ],
      "metadata": {
        "colab": {
          "base_uri": "https://localhost:8080/"
        },
        "id": "PucsW5zEtpJW",
        "outputId": "f1d357da-02de-4a78-f221-0f198486ea48"
      },
      "execution_count": null,
      "outputs": [
        {
          "output_type": "stream",
          "name": "stdout",
          "text": [
            "10\n",
            "11\n",
            "12\n",
            "13\n",
            "14\n",
            "hello\n",
            "16\n",
            "17\n",
            "18\n",
            "19\n",
            "20\n"
          ]
        }
      ]
    },
    {
      "cell_type": "code",
      "source": [
        "def nameprint(name):\n",
        "  '''this is a function to\n",
        "   print name'''\n",
        "  print(\"hello my name is\",name)\n",
        "nameprint(\"sam\")"
      ],
      "metadata": {
        "colab": {
          "base_uri": "https://localhost:8080/"
        },
        "id": "K0MvoKR_usJh",
        "outputId": "af92a307-f9b3-44a5-9faf-61e97de3ed88"
      },
      "execution_count": null,
      "outputs": [
        {
          "output_type": "stream",
          "name": "stdout",
          "text": [
            "hello my name is sam\n"
          ]
        }
      ]
    },
    {
      "cell_type": "code",
      "source": [
        "def square(num):\n",
        "  #this function computes the square of a number\n",
        "  return num**2\n",
        "a=square(4.3)\n",
        "print(\"the square of the num is:\",a)\n",
        "square(9)"
      ],
      "metadata": {
        "colab": {
          "base_uri": "https://localhost:8080/"
        },
        "id": "PQrorojnvQlx",
        "outputId": "df705b16-f803-42b4-c489-7f23b6f1f17c"
      },
      "execution_count": null,
      "outputs": [
        {
          "output_type": "stream",
          "name": "stdout",
          "text": [
            "the square of the num is: 18.49\n"
          ]
        },
        {
          "output_type": "execute_result",
          "data": {
            "text/plain": [
              "81"
            ]
          },
          "metadata": {},
          "execution_count": 15
        }
      ]
    },
    {
      "cell_type": "code",
      "source": [
        "def square(my_list):\n",
        "  new_list=[]\n",
        "  for i in my_list:\n",
        "    new_list.append(i**2)\n",
        "  return new_list\n",
        "\n",
        "list=[45,1.2,4]\n",
        "print(\"the list is:\",list)\n",
        "print(\"the square of the list is:\",square(list))\n"
      ],
      "metadata": {
        "colab": {
          "base_uri": "https://localhost:8080/"
        },
        "id": "-XDAzmZDwvHk",
        "outputId": "4a6e032b-6aaf-4022-c10c-a2e839e77b89"
      },
      "execution_count": null,
      "outputs": [
        {
          "output_type": "stream",
          "name": "stdout",
          "text": [
            "the list is: [45, 1.2, 4]\n",
            "the square of the list is: [2025, 1.44, 16]\n"
          ]
        }
      ]
    },
    {
      "cell_type": "code",
      "source": [
        "def square(num):\n",
        "  #this function computes the square of a number\n",
        "  return num**2\n",
        "object=9\n",
        "print(\"the square of the object is:\",square(object))\n",
        "print(\"the value of the object is:\",object)"
      ],
      "metadata": {
        "colab": {
          "base_uri": "https://localhost:8080/"
        },
        "id": "kMqA-DJIxWke",
        "outputId": "89bc352c-135c-44e2-f06f-cfed564e37e7"
      },
      "execution_count": null,
      "outputs": [
        {
          "output_type": "stream",
          "name": "stdout",
          "text": [
            "the square of the object is: 81\n",
            "the value of the object is: 9\n"
          ]
        }
      ]
    },
    {
      "cell_type": "markdown",
      "source": [
        "TYPES OF ARGUMENTS\n",
        "\n",
        "DEFAULT\n",
        "\n",
        "KEYWORD\n",
        "\n",
        "required\n",
        "\n",
        "variable length args\n",
        "\n"
      ],
      "metadata": {
        "id": "_KMkdQX21Kp6"
      }
    },
    {
      "cell_type": "code",
      "source": [
        "def function(num1,num2=40):\n",
        "  print(\"num1 is:\",num1)\n",
        "  print(\"num2 is:\",num2)\n",
        "\n",
        "print(\"passing only one argument\")#default argument\n",
        "function(10)\n",
        "\n",
        "print(\"passing both arguments\")#explicitly mentioned the values\n",
        "function(10,20)\n",
        "\n",
        "print(\"with using keyword\")#with keyword\n",
        "function(num2=30,num1=20)\n",
        "\n",
        "print(\"without using keyword\")#without keyword\n",
        "function(30,20)"
      ],
      "metadata": {
        "colab": {
          "base_uri": "https://localhost:8080/"
        },
        "id": "nzTCxXkU1VNQ",
        "outputId": "b2ce5fe6-7198-43e4-9137-b7c95446de67"
      },
      "execution_count": null,
      "outputs": [
        {
          "output_type": "stream",
          "name": "stdout",
          "text": [
            "passing only one argument\n",
            "num1 is: 10\n",
            "num2 is: 40\n",
            "passing both arguments\n",
            "num1 is: 10\n",
            "num2 is: 20\n",
            "with using keyword\n",
            "num1 is: 20\n",
            "num2 is: 30\n",
            "without using keyword\n",
            "num1 is: 30\n",
            "num2 is: 20\n"
          ]
        }
      ]
    },
    {
      "cell_type": "code",
      "source": [
        "def function(num1,num2):\n",
        "  print(\"num1 is:\",num1)\n",
        "  print(\"num2 is:\",num2)\n",
        "print(\"passing out of order arguments\")#we want num1=20 and num2=30\n",
        "function(30,20)\n",
        "print(\"passing only one argument\")\n",
        "try:\n",
        "  function(10)\n",
        "except:\n",
        "  print(\"function needs two positional arguments\")\n",
        "\n"
      ],
      "metadata": {
        "colab": {
          "base_uri": "https://localhost:8080/"
        },
        "id": "C98-biSQ319S",
        "outputId": "7f6706ba-1d4e-45c8-e3ac-2ee30fdfe826"
      },
      "execution_count": null,
      "outputs": [
        {
          "output_type": "stream",
          "name": "stdout",
          "text": [
            "passing out of order arguments\n",
            "num1 is: 30\n",
            "num2 is: 20\n",
            "passing only one argument\n",
            "function needs two positional arguments\n"
          ]
        }
      ]
    },
    {
      "cell_type": "code",
      "source": [
        "# *args-these are non-keyword arguments\n",
        "# **kwargs- these are keyword arguments\n",
        "\n",
        "def function(*args_list):\n",
        "  ans=[]\n",
        "  for i in args_list:\n",
        "    ans.append(i.upper())\n",
        "  return ans\n",
        "#passing args arguments\n",
        "object=function(\"python\",\"functions\",\"tutorial\")\n",
        "print(object)\n",
        "print(type(object))\n"
      ],
      "metadata": {
        "colab": {
          "base_uri": "https://localhost:8080/"
        },
        "id": "oVPMrWxD5lxL",
        "outputId": "2a3ef51c-c501-4a8d-ebe8-96e6bb3e9c42"
      },
      "execution_count": null,
      "outputs": [
        {
          "output_type": "stream",
          "name": "stdout",
          "text": [
            "['PYTHON', 'FUNCTIONS', 'TUTORIAL']\n",
            "<class 'list'>\n"
          ]
        }
      ]
    },
    {
      "cell_type": "code",
      "source": [
        "def function(**kargs_list):\n",
        "  ans=[]\n",
        "  for key,value in kargs_list.items():\n",
        "    ans.append([key,value])\n",
        "  return ans\n",
        "object=function(first=\"python\",second=\"functions\",third=\"tutorial\")\n",
        "print(object)\n",
        "print(type(object))"
      ],
      "metadata": {
        "colab": {
          "base_uri": "https://localhost:8080/"
        },
        "id": "3nNTSbNF6rsS",
        "outputId": "0ceb5ea1-cdf2-48a3-8bc3-012a16eb2df4"
      },
      "execution_count": null,
      "outputs": [
        {
          "output_type": "stream",
          "name": "stdout",
          "text": [
            "[['first', 'python'], ['second', 'functions'], ['third', 'tutorial']]\n",
            "<class 'list'>\n"
          ]
        }
      ]
    }
  ]
}