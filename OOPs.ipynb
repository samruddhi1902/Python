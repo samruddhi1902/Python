{
  "nbformat": 4,
  "nbformat_minor": 0,
  "metadata": {
    "colab": {
      "provenance": [],
      "authorship_tag": "ABX9TyM1Bjo8JuFeHUMZqOAwq6Oa",
      "include_colab_link": true
    },
    "kernelspec": {
      "name": "python3",
      "display_name": "Python 3"
    },
    "language_info": {
      "name": "python"
    }
  },
  "cells": [
    {
      "cell_type": "markdown",
      "metadata": {
        "id": "view-in-github",
        "colab_type": "text"
      },
      "source": [
        "<a href=\"https://colab.research.google.com/github/samruddhi1902/Python/blob/main/OOPs.ipynb\" target=\"_parent\"><img src=\"https://colab.research.google.com/assets/colab-badge.svg\" alt=\"Open In Colab\"/></a>"
      ]
    },
    {
      "cell_type": "code",
      "source": [
        "\n",
        "class Vehicle:\n",
        "  def __init__(self, model_name, max_speed, mileage):\n",
        "    self.model_name = model_name\n",
        "    self.max_speed = max_speed\n",
        "    self.mileage = mileage\n",
        "\n",
        "vehicle1=Vehicle(\"City\",180,12)\n",
        "print(vehicle1.model_name,vehicle1.max_speed,vehicle1.mileage)"
      ],
      "metadata": {
        "id": "5T4jIqq4RaSb"
      },
      "execution_count": null,
      "outputs": []
    },
    {
      "cell_type": "code",
      "source": [
        "\n",
        "class Vehicle:\n",
        "  def __init__(self, model_name, max_speed, mileage):\n",
        "    self.model_name = model_name\n",
        "    self.max_speed = max_speed\n",
        "    self.mileage = mileage\n",
        "\n",
        "vehicle1=Vehicle(\"City\",180,12)\n",
        "print(vehicle1.model_name,vehicle1.max_speed,vehicle1.mileage)\n",
        "\n",
        "class Bus(Vehicle):\n",
        "  pass\n",
        "\n",
        "bus1=Bus(\"City\",180,12)\n",
        "print(bus1.model_name,bus1.max_speed,bus1.mileage)"
      ],
      "metadata": {
        "id": "FUpAi5RhI9Gs"
      },
      "execution_count": null,
      "outputs": []
    },
    {
      "cell_type": "code",
      "source": [
        "\n",
        "\n",
        "class Vehicle:\n",
        "  def __init__(self, model_name, max_speed, mileage):\n",
        "    self.model_name = model_name\n",
        "    self.max_speed = max_speed\n",
        "    self.mileage = mileage\n",
        "\n",
        "class Bus(Vehicle):\n",
        "  def __init__(self, model_name, max_speed, mileage, capacity=50):\n",
        "        super().__init__(model_name, max_speed, mileage)\n",
        "        self.capacity = capacity\n",
        "\n",
        "bus1=Bus(\"City\",180,12)\n",
        "print(bus1.model_name,bus1.max_speed,bus1.mileage,bus1.capacity)\n",
        "\n"
      ],
      "metadata": {
        "colab": {
          "base_uri": "https://localhost:8080/"
        },
        "id": "Dp23SgeeJRLR",
        "outputId": "55c90566-7d1b-4c6e-9865-5a839b3c8f95"
      },
      "execution_count": null,
      "outputs": [
        {
          "output_type": "stream",
          "name": "stdout",
          "text": [
            "City 180 12 50\n"
          ]
        }
      ]
    },
    {
      "cell_type": "code",
      "source": [
        "\n",
        "\n",
        "class Vehicle:\n",
        "  wheels=4\n",
        "  def __init__(self, model_name, max_speed, mileage):\n",
        "    self.model_name = model_name\n",
        "    self.max_speed = max_speed\n",
        "    self.mileage = mileage\n",
        "\n",
        "vehicle1=Vehicle(\"City\",180,20)\n",
        "print(vehicle1.model_name,vehicle1.max_speed,vehicle1.mileage,vehicle1.wheels)\n",
        "\n",
        "vehicle2=Vehicle(\"SWift\",180,12)\n",
        "print(vehicle2.model_name,vehicle2.max_speed,vehicle2.mileage,vehicle2.wheels)\n"
      ],
      "metadata": {
        "colab": {
          "base_uri": "https://localhost:8080/"
        },
        "id": "xuZTlEjsNz9H",
        "outputId": "b33f608e-231c-4926-92d7-7771674c8edd"
      },
      "execution_count": null,
      "outputs": [
        {
          "output_type": "stream",
          "name": "stdout",
          "text": [
            "City 180 20 4\n",
            "SWift 180 12 4\n"
          ]
        }
      ]
    },
    {
      "cell_type": "code",
      "source": [
        "\n",
        "class Vehicle:\n",
        "    def __init__(self, model_name, max_speed, mileage, capacity):\n",
        "        self.model_name = model_name\n",
        "        self.max_speed = max_speed\n",
        "        self.mileage = mileage\n",
        "        self.capacity = capacity\n",
        "\n",
        "    def fare(self):\n",
        "        return self.capacity * 100\n",
        "\n",
        "class Bus(Vehicle):\n",
        "    def fare(self):\n",
        "        total_fare = super().fare()\n",
        "        maintenance_charge = total_fare * 0.10\n",
        "        final_amount = total_fare + maintenance_charge\n",
        "        return final_amount\n",
        "\n",
        "bus1 = Bus(\"Volvo\", 180, 12, 50)\n",
        "print(f\"Model: {bus1.model_name}\")\n",
        "print(f\"Base Fare: {bus1.capacity * 100}\")\n",
        "print(f\"Total Fare (with maintenance): {bus1.fare()}\")\n",
        "\n",
        "\n"
      ],
      "metadata": {
        "colab": {
          "base_uri": "https://localhost:8080/"
        },
        "id": "qrPBigyGOmHM",
        "outputId": "b1a0b8f6-085a-4ff4-bbe2-745268e1d3b4"
      },
      "execution_count": null,
      "outputs": [
        {
          "output_type": "stream",
          "name": "stdout",
          "text": [
            "Model: Volvo\n",
            "Base Fare: 5000\n",
            "Total Fare (with maintenance): 5500.0\n"
          ]
        }
      ]
    },
    {
      "cell_type": "code",
      "source": [
        "\n",
        "class Vehicle:\n",
        "    def __init__(self, model_name, max_speed, mileage, capacity):\n",
        "        self.model_name = model_name\n",
        "        self.max_speed = max_speed\n",
        "        self.mileage = mileage\n",
        "        self.capacity = capacity\n",
        "\n",
        "class Bus(Vehicle):\n",
        "    pass\n",
        "\n",
        "bus1 = Bus(\"Volvo\", 180, 12, 50)\n",
        "\n",
        "print(\"bus1 is an instance of class: \",type(bus1))\n",
        "print(\"bus1 is an instance of class: \" ,type(bus1).__name__)\n"
      ],
      "metadata": {
        "colab": {
          "base_uri": "https://localhost:8080/"
        },
        "id": "MlY45SsuPigr",
        "outputId": "a9479ae6-702d-4061-810b-6d9d557e50b4"
      },
      "execution_count": null,
      "outputs": [
        {
          "output_type": "stream",
          "name": "stdout",
          "text": [
            "bus1 is an instance of class:  <class '__main__.Bus'>\n",
            "bus1 is an instance of class:  Bus\n",
            "bus1 is an instance of class Vehicle: True\n"
          ]
        }
      ]
    },
    {
      "cell_type": "code",
      "source": [
        "\n",
        "class Vehicle:\n",
        "    def __init__(self, model_name, max_speed, mileage, capacity):\n",
        "        self.model_name = model_name\n",
        "        self.max_speed = max_speed\n",
        "        self.mileage = mileage\n",
        "        self.capacity = capacity\n",
        "\n",
        "class Bus(Vehicle):\n",
        "    pass\n",
        "\n",
        "School_bus = Bus(\"School Volvo\", 150, 10, 50)\n",
        "\n",
        "if isinstance(School_bus, Vehicle):\n",
        "    print(\"School_bus is an instance of the Vehicle class\")\n",
        "else:\n",
        "    print(\"School_bus is not an instance of the Vehicle class\")\n"
      ],
      "metadata": {
        "colab": {
          "base_uri": "https://localhost:8080/"
        },
        "id": "A4i7YNaSRI1e",
        "outputId": "bb2ff4f3-62b5-4f66-b8e1-e58c50af0b1e"
      },
      "execution_count": null,
      "outputs": [
        {
          "output_type": "stream",
          "name": "stdout",
          "text": [
            "School_bus is an instance of the Vehicle class\n"
          ]
        }
      ]
    }
  ]
}